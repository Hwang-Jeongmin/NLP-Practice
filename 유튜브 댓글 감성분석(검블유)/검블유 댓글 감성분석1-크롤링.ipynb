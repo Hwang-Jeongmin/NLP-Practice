{
 "cells": [
  {
   "cell_type": "markdown",
   "id": "289fac78",
   "metadata": {},
   "source": [
    "### 완성된 코드"
   ]
  },
  {
   "cell_type": "code",
   "execution_count": 9,
   "id": "51850a4c",
   "metadata": {},
   "outputs": [],
   "source": [
    "from selenium import webdriver\n",
    "from bs4 import BeautifulSoup\n",
    "from selenium.webdriver.common.keys import Keys\n",
    "from selenium.webdriver.common.by import By\n",
    "import time\n",
    "from tqdm import tqdm\n",
    "import pandas as pd\n",
    "import numpy as np\n",
    "\n",
    "import warnings\n",
    "warnings.filterwarnings('ignore')"
   ]
  },
  {
   "cell_type": "code",
   "execution_count": 2,
   "id": "bc56742b",
   "metadata": {},
   "outputs": [],
   "source": [
    "driver = webdriver.Chrome()\n",
    "all_comments = {}"
   ]
  },
  {
   "cell_type": "code",
   "execution_count": 3,
   "id": "20048861",
   "metadata": {},
   "outputs": [],
   "source": [
    "stop_button = '#movie_player > div.ytp-chrome-bottom > div.ytp-chrome-controls > div.ytp-left-controls > button'\n",
    "next_button = '#movie_player > div.ytp-chrome-bottom > div.ytp-chrome-controls > div.ytp-left-controls > a.ytp-next-button.ytp-button'"
   ]
  },
  {
   "cell_type": "code",
   "execution_count": 4,
   "id": "79c397de",
   "metadata": {},
   "outputs": [],
   "source": [
    "# 검블유(다시보기 리스트 사용)의 댓글들을 크롤링\n",
    "playlist_url = 'https://www.youtube.com/watch?v=p8-w-iQQm5o&list=PLdyB3s37qpTNYwCaGJ89SzR4A7wKIrTW6&index=1'\n",
    "len_playlist = 28\n",
    "driver.get(playlist_url)"
   ]
  },
  {
   "cell_type": "code",
   "execution_count": 5,
   "id": "a051ef15",
   "metadata": {},
   "outputs": [
    {
     "name": "stderr",
     "output_type": "stream",
     "text": [
      "100%|██████████| 28/28 [29:13<00:00, 62.62s/it]\n"
     ]
    }
   ],
   "source": [
    "for i in tqdm(range(len_playlist)):\n",
    "    # 멈추기\n",
    "    time.sleep(6)\n",
    "    \n",
    "    # stop 버튼 눌러서 영상 재생 막기\n",
    "    driver.find_element(By.CSS_SELECTOR, stop_button).click()\n",
    "    \n",
    "    # 마지막까지 스크롤 내리기\n",
    "    last_height = driver.execute_script(\"return document.documentElement.scrollHeight\")\n",
    "    while True:\n",
    "        driver.execute_script(\"window.scrollTo(0, document.documentElement.scrollHeight);\")\n",
    "        time.sleep(1.5)\n",
    "\n",
    "        new_height = driver.execute_script(\"return document.documentElement.scrollHeight\")\n",
    "        if new_height == last_height:\n",
    "            break\n",
    "        last_height = new_height\n",
    "    time.sleep(1.5)\n",
    "    \n",
    "    # comments를 저장하기\n",
    "    comments = []\n",
    "    soup = BeautifulSoup(driver.page_source,'lxml')\n",
    "    titles = soup.find_all('yt-formatted-string', attrs = {'id':'content-text'})\n",
    "    titles\n",
    "    for title in titles:\n",
    "        comment = title.get_text()\n",
    "        comments.append(comment)\n",
    "    \n",
    "    # all_comments에 dictionary 형태로 저장하기\n",
    "    key = driver.title\n",
    "    value = comments\n",
    "    all_comments[key] = value\n",
    "    \n",
    "    # 다음 동영상으로 넘어가기\n",
    "    driver.execute_script(\"window.scrollTo(document.documentElement.scrollHeight,0);\")\n",
    "    driver.find_element(By.CSS_SELECTOR, next_button).click()\n",
    "    time.sleep(1.5)"
   ]
  },
  {
   "cell_type": "code",
   "execution_count": 7,
   "id": "788b4664",
   "metadata": {
    "scrolled": false
   },
   "outputs": [
    {
     "name": "stdout",
     "output_type": "stream",
     "text": [
      "1번째 영상 제목: [#검블유] \"만날 때마다 키스하는 편이네\"♨ 배타미(임수정)와 함께 하룻밤 보낸 연하남 박모건(장기용)의 빠꾸없는 직진! - YouTube\n",
      "2번째 영상 제목: [#검블유] 뚝배기 깨고 차 박살내는 검블유 참교육 담당 이다희 모음ㅋㅋㅋ - YouTube\n",
      "3번째 영상 제목: [#검블유] '미안하면 시키는대로 할래요?' 일자리보다 사랑이 중요한 박모건(장기용)의 배타미(임수정)를 향한 진심 - YouTube\n",
      "4번째 영상 제목: [#검블유] 모건이도 욕할 뻔한 텐션 과하게 높은 배타미의 구남친이자 차현의 현남친 표준수…(도대체 왜) - YouTube\n",
      "5번째 영상 제목: [#검블유] ※사이다※ 아이패드는 쓰레기 남친 후릴 때 쓰는게 제 맛!😇 전과 2범 각오하고 바람 핀 전남친 참교육 하러온 차현 - YouTube\n",
      "6번째 영상 제목: [#검블유] 💥짜릿한 딕션💥 말로 총 쏘는 것 같은 배타미VS차현의 짜릿한 티키타카!🗣 - YouTube\n",
      "7번째 영상 제목: [#검블유] 포털 사이트의 웹툰 작가 섭외 싸움!🔥 배타미X차현X송가경 드디어 셋이 만나다 - YouTube\n",
      "8번째 영상 제목: [#검블유]♨\"머리 속에서 저 그만 벗기세요\"♨ 포마드, 핏줄, 셔츠까지..배타미(임수정) 시선강탈하는 박모건(장기용) - YouTube\n",
      "9번째 영상 제목: [#검블유] ※사이다※ 국회의원 미성년자 성매매 증거 USB로 청문회에서 판 뒤집은 배타미(임수정)! - YouTube\n",
      "10번째 영상 제목: [#검블유] 찢어진 스타킹에 네임펜으로 장난치는 연하남(!)👀 배타미(임수정) 심쿵시키는 불도저 박모건(장기용) - YouTube\n",
      "11번째 영상 제목: [#검블유] \"이 집 개로 살기로 안했니?\" 청와대를 건드려 분노한 시어머니 그리고 참다 못해 이혼 선언하는 가경 - YouTube\n",
      "12번째 영상 제목: [#검블유] 이재욱의 \"가자, 현아\" 타미 앞에서 남친인 척 해달랬더니 왜 이렇게 잘하는데… 누가 봐도 썸타는 중인 둘👀💗 - YouTube\n",
      "13번째 영상 제목: [#검블유] 차현♥설지환, 설지환 드라마 현장 덮친 차현! 조신하게 도망치라며 참교육 시전하다가 어느새 내 배우..♡ - YouTube\n",
      "14번째 영상 제목: [#검블유] 아침에 셋팅 다하고 자는 척 하는 혁명적인 연하남 장기용,,♥ 밤엔 불도저 낮엔 멍뭉이 모건의 끊임 없는 직진! - YouTube\n",
      "15번째 영상 제목: [#검블유] 미역국 끓이는 데 양이 거의 만백성 다 먹일 클라슼ㅋㅋㅋㅋ 손에 물 안 묻혀본 송가경의 밥상 차리기! - YouTube\n",
      "16번째 영상 제목: [#검블유] \"언니... 손만 잡고 잘게요\" 취해서 쪼꼬미 배타미에게 폭풍애교 시전하는 차현. 배타미♥차현 응원합니다🙏 - YouTube\n",
      "17번째 영상 제목: [#검블유] 배타미♥박모건 ASMR급 탕비실 키스 /// 바로 앞에 직원들 수다떠는데 자기들만의 세상 만들어버리기 - YouTube\n",
      "18번째 영상 제목: [#검블유] 차현X배타미X송가경의 흥미진진한 삼각관계👀 찰져도 너무 찰진 세 배우 딕션 때문에 더 짜릿한 싸움🔥 - YouTube\n",
      "19번째 영상 제목: [#검블유] 차현♥설지환, 대본리딩 도와주다가 충격받은 이다희 와락 안아버린 이재욱🥺 순수큐티 커플씬 더 주라,, - YouTube\n",
      "20번째 영상 제목: [#검블유] 좋아하는 내 배우에게 선 긋는 차현💧 질투하다가 뼈 맞은 차현부터 무당한테 점까지 보러갔는데,, 설지환 입대라니 - YouTube\n",
      "21번째 영상 제목: [#검블유] 이재욱♥이다희 첫키스 후 집에서 큐티뽀짝 데이트/// 질투하고 당황하고 같이 웃고,, 그래 그렇게 행복만 해,, - YouTube\n",
      "22번째 영상 제목: [#검블유] 창고 안에서 차현♥설지환 손목키스.. 팬심이 아니고 사랑임을 확인한 두 사람 - YouTube\n",
      "23번째 영상 제목: [#검블유] 이 미친 드라마야!!!!! 검블유 속 설지환의 캐막장 드라마 '장모님이 왜 그럴까' 모음집 ㅋㅋㅋ 무정자증에 임신이라니요 - YouTube\n",
      "24번째 영상 제목: [#검블유] ※역대급 사이다※ 유니콘 대표 된 송가경 X 실검 지켜내는 차현, 배타미! 이 선배들 최고 멋지다,,♥ - YouTube\n",
      "25번째 영상 제목: [#검블유] 죽은 엄마에게서 온 편지, 함께하지 못했던 순간에도 항상 사랑했다는 엄마의 고백과 모건의 눈물 - YouTube\n",
      "26번째 영상 제목: [#검블유] 드디어 이다희한테 반말하는 이재욱💗 그리고 키스까지,,/// 순수러블리 커플의 첫데이트 훔쳐보기👀 - YouTube\n",
      "27번째 영상 제목: [#검블유] ※엔딩※ 청와대&시월드 동시에 무너뜨린 송가경X차현X배타미! 포털메인에 대문짝만하게 비리 폭로 캬 -✨ - YouTube\n",
      "28번째 영상 제목: [#검블유] \"엄마는 내 인생에 상처만 내\" 엄마 장례식장에서 오열하는 박모건과 옆에 있어주는 배타미 - YouTube\n"
     ]
    }
   ],
   "source": [
    "for idx, key in enumerate(all_comments.keys()):\n",
    "    print(f\"{idx+1}번째 영상 제목: {key}\")"
   ]
  },
  {
   "cell_type": "code",
   "execution_count": 33,
   "id": "43b8fa05",
   "metadata": {
    "scrolled": true
   },
   "outputs": [
    {
     "name": "stdout",
     "output_type": "stream",
     "text": [
      "1360\n",
      "                                             comment\n",
      "0  [검색어를 입력하세요 www]\\n일 잘하고 사랑 잘하는 검블유 다시보기\\n http...\n",
      "1  Love this couple very much. Park Mo Gun and Ba...\n",
      "2  Im so obsessed with this couple! I love the wa...\n",
      "3  Amei essa série isso é o que chamamos do Verda...\n",
      "4  남자역할 진짜 매력적인게..상대방에 대한 배려가 몸에 베어있는게 정말좋은듯..다가갈...\n"
     ]
    }
   ],
   "source": [
    "all_comment_list = list(all_comments.values())\n",
    "empty_list = []\n",
    "max_len = 0\n",
    "for i in range(len(all_comment_list)):\n",
    "    comment_list = all_comment_list[i]\n",
    "    empty_list += comment_list\n",
    "    length = len(comment_list)\n",
    "    if length > max_len:\n",
    "        max_len = length\n",
    "print(max_len)   \n",
    "all_comment_list = empty_list\n",
    "df = pd.DataFrame({'comment': all_comment_list})\n",
    "print(df.head())"
   ]
  },
  {
   "cell_type": "code",
   "execution_count": 28,
   "id": "5b1077a1",
   "metadata": {},
   "outputs": [],
   "source": [
    "def padding_function(a, max_len, fill=' '):\n",
    "    if len(a) < max_len:\n",
    "        num = max_len - len(a)\n",
    "        a = a + ([fill] * num)\n",
    "    return a"
   ]
  },
  {
   "cell_type": "code",
   "execution_count": 32,
   "id": "a501b973",
   "metadata": {
    "scrolled": false
   },
   "outputs": [
    {
     "name": "stdout",
     "output_type": "stream",
     "text": [
      "                                                  0   \\\n",
      "0  [검색어를 입력하세요 www]\\n일 잘하고 사랑 잘하는 검블유 다시보기\\n http...   \n",
      "1  Love this couple very much. Park Mo Gun and Ba...   \n",
      "2  Im so obsessed with this couple! I love the wa...   \n",
      "3  Amei essa série isso é o que chamamos do Verda...   \n",
      "4  남자역할 진짜 매력적인게..상대방에 대한 배려가 몸에 베어있는게 정말좋은듯..다가갈...   \n",
      "\n",
      "                                                  1   \\\n",
      "0  [검색어를 입력하세요 www]\\n일 잘하고 사랑 잘하는 검블유 다시보기\\n http...   \n",
      "1      뭐야   성추행범을 때렸는데 전과자 만들어 대한민국 법이 저러니 범죄가 끊이 않지   \n",
      "2  ㅋㅋㅋㅋㅋㅋㅋㅋㅋㅋㅋㅋㅋㅋㅋㅋㅋㅋ 정상참작 하기엔 전치가 너무 12주라. ㅋㅋㅋㅋㅋ...   \n",
      "3        이 언니... 이미 전작에서 사람 홀렸으면서 이번작품에서 또 홀리네 .....   \n",
      "4  이다희 뭐냐; 뭔데 무슨 역할을 해도 다 잘 어울리고, 잘 소화하냐.. 진짜 헤어나...   \n",
      "\n",
      "                                                  2   \\\n",
      "0  [검색어를 입력하세요 www]\\n일 잘하고 사랑 잘하는 검블유 다시보기\\n http...   \n",
      "1                           세컨드 안해봐서 공부해야된대 ㅁㅊ,,ㅠㅠㅠㅠ   \n",
      "2  드라마가 일하는 장면은 강렬하고 카타르시스 느껴지고 하는데 연애장면은 뭔가 몽글몽글...   \n",
      "3  정주행 다 한 사람으로서 엉엉 ㅠㅠㅠ 이 장면 조낸 설렘인거임 ㅠㅜㅜㅜ 박모건 미친...   \n",
      "4  대사 하나 장면 하나하나 다 너무너무 좋은, 삶에 대해 생각해보게도 하고 설레게도 ...   \n",
      "\n",
      "                                                  3   \\\n",
      "0  [검색어를 입력하세요 www]\\n일 잘하고 사랑 잘하는 검블유 다시보기\\n http...   \n",
      "1   1:27 떡만 줘야지~ 당면 내꺼~ ㅋㅋㅋㅋㅋㅋㅋㅋㅋㅋㅋㅋ개웃곀ㅋㅋㅋㅋㅋㅋㅋㅋㅋㅋㅋㅋㅋ   \n",
      "2  ㅋㅋㅋㅋㅋㅋㅋㅋㅋㅋㅋㅋㅋㅋㅋㅋㅋㅋㅋㅋㅋㅋ 진짜... 연기가 너무 자연스럽고 능청스럽...   \n",
      "3                 정재헌씨 제가 많이 사랑합니다......이건 제 뜻입니다...   \n",
      "4                   표준수와 정재헌의 갭차이 뭔데 진짜; 어떤역할이든 잘소화함   \n",
      "\n",
      "                                                  4   \\\n",
      "0  [검색어를 입력하세요 www]\\n일 잘하고 사랑 잘하는 검블유 다시보기\\n http...   \n",
      "1  바람피운것도 모자라, 그걸 들켜? 뭐 이렇게 성의가 없어!!!!!! ㅋㅋㅋㅋㅋㅋㅋ개사이다   \n",
      "2  약간 셀럽이니까 이거 진짜 표정이랑 손가락이랑 개터졌었는데 ㅋㅋㅋㅋㅋㅋㅋㅋㅋㅋㅋㅋㅋ...   \n",
      "3           차현 완전 사이다넼ㅋㅋㅋㅋㅋㅋ 태블릿으로 머리때리는거 완전 멋있옼ㅋㅋㅋㅋ   \n",
      "4  왜 아무도 차현 코디 말 안하지 ㅋㅋ 앞에서 태슬이 찰랑거려서 모션이 더 커보이고 ...   \n",
      "\n",
      "                                                  5   \\\n",
      "0  [검색어를 입력하세요 www]\\n일 잘하고 사랑 잘하는 검블유 다시보기\\n http...   \n",
      "1  와 임수정 딕션 특히 좋다 \\n하나도 안 물리네 굳이 크게 말하는 것도\\n대사 치는...   \n",
      "2  와 임수정 대사칠때 입을 크게 벌리지도 않고, 게다가 천천히 말하는 편이 아닌데도 ...   \n",
      "3  배타미 대사에서 \" 사람들이 유니콘 비리도 유니콘에서 검색하도록 내 청춘을 바쳤으니...   \n",
      "4  아 근데 '사람들이 유니콘 비리도 유니콘에서 검색하도록 내 청춘을 바쳤으니까'이대사...   \n",
      "\n",
      "                                                  6   \\\n",
      "0  [검색어를 입력하세요 www]\\n일 잘하고 사랑 잘하는 검블유 다시보기\\n http...   \n",
      "1  맨날 주인공이 정의감 넘치고 거의뭐 홍길동이어서 현실성없고 진부한설정이라 생각했는데...   \n",
      "2  7:10쯤에 나오는 빨간 계열의 옷을 입은 바로 직원 둘이 무채색과 정장만을 입은 ...   \n",
      "3  타미 상황 판단능력 ㅅㅌㅊ 현이의 정의적 목적도 좋고 타미 현실적 판단도 좋고 둘이...   \n",
      "4  요새 웹툰 포털에서 차지하는 거 완전큰데 소재 신선하게 완전 잘 잡은듯 핵꿀잼 그냥...   \n",
      "\n",
      "                                                  7   \\\n",
      "0  [검색어를 입력하세요 www]\\n일 잘하고 사랑 잘하는 검블유 다시보기\\n http...   \n",
      "1                                  임수정 연기 진짜 리얼하게 잘해   \n",
      "2                임수정 홀린표정도 한목함ㅋㅋㅋㅋㅋ\\nㄹㅇ 입맛다시는것같음ㅋㅋㅋㅋ   \n",
      "3  변태무빙도 좋았지만 타미가 다시 잡으려고 엘레베이터 문 열었을때 날 것 그대로의 표...   \n",
      "4                               Maravilhosa Série!!!   \n",
      "\n",
      "                                                  8   \\\n",
      "0  [검색어를 입력하세요 www]\\n일 잘하고 사랑 잘하는 검블유 다시보기\\n http...   \n",
      "1  임수정 배우 딕션 놀랍다. 발음 발성 매회 감탄스럽지만 청문회씬 다시 보니까 장난없...   \n",
      "2  “왜 내가 개새끼면 안되는데?”\\n너무 마음에 드는 대사ㅠㅠㅠㅠ\\n직장에서 가슴에 ...   \n",
      "3  존나 멋잇어 배타미 ㅠㅠㅠㅠㅠㅠ나중에 저새끼랑 마주쳐서 말시키니까 “어디서 성범죄자...   \n",
      "4                                   아 타미 딕션 졸라 쩐다...   \n",
      "\n",
      "                                                  9   ...  \\\n",
      "0  [검색어를 입력하세요 www]\\n일 잘하고 사랑 잘하는 검블유 다시보기\\n http...  ...   \n",
      "1                    진짜 장기용 목소리+얼굴+피지컬 삼박자 미친거 아니냐구요  ...   \n",
      "2  일부러 그런건 너 좋아한거 밖에 없대..ㅋㅋㅋㅋㅋㅋㅋㅋ 미쳤나봐ㅋㅋㅋㅋㅋㅋㅋ 드라마...  ...   \n",
      "3  임수정이 나이들어보이니까 배역에 훨씬 잘 어울리네요. 자연스럽게, 아름답게 나이드는...  ...   \n",
      "4  대사만 보면 오글거릴수도 있는데 배우들이 찰떡같이 소화하네... 특히 장기용.. 진...  ...   \n",
      "\n",
      "                                                  18  \\\n",
      "0  [검색어를 입력하세요 www]\\n일 잘하고 사랑 잘하는 검블유 다시보기\\n http...   \n",
      "1  웃는거..눈썹 찌푸리는거...발성...딕션...수트핏......죽음이다 이재욱배우님...   \n",
      "2  장욱보다가 설지환 보니까 왤케 순둥순둥 착해빠진건데 ㅋㅋㅋㅋㅋㅋㅋㅋㅋㅋㅋㅋㅋㅋㅋㅋㅋ...   \n",
      "3  This couple is so cute and special. Lee Da Hee...   \n",
      "4  남자배우 표정 디테일이 너무 좋다\\n놀랄때 순간 연기에서 빠져나와 현타올때 동공지진...   \n",
      "\n",
      "                                                  19  \\\n",
      "0  [검색어를 입력하세요 www]\\n일 잘하고 사랑 잘하는 검블유 다시보기\\n http...   \n",
      "1                              달려오는거 달리기 자세 나만 개멋있음?   \n",
      "2                                 이 드라마는 조연들도 연기 참잘해   \n",
      "3             근데 4가지없게말한거는 맞는데 다맞는말ㅜㅜ근데근데 차현 너무이쁘다ㅜㅜ   \n",
      "4  the ending was so good. It's the best ending I...   \n",
      "\n",
      "                                                  20  \\\n",
      "0  [검색어를 입력하세요 www]\\n일 잘하고 사랑 잘하는 검블유 다시보기\\n http...   \n",
      "1  I was so much more invested in this couple tha...   \n",
      "2  After a year, and I’m still fangirling about t...   \n",
      "3  Loved this couple more than the main one!! The...   \n",
      "4  감동받을 찰나에 예순 세살이 너무 강력했음 ㅋㅋㅋㅋㅋㅋㅋㅋㅋㅋㅋㅋㅋㅋㅋㅋㅋㅋㅋㅋㅋㅋㅋㅋㅋ   \n",
      "\n",
      "                                                  21  \\\n",
      "0  [검색어를 입력하세요 www]\\n일 잘하고 사랑 잘하는 검블유 다시보기\\n http...   \n",
      "1         벨소리랑 브금이랑 자연스럽게 섞이는 거.. 진짜 음악연출도 대박아닙니까,,,   \n",
      "2  자막 도랏ㅋㅋㅋㅋ 검블유는 시청률은 안나왔더라두 충분히 정주행할만하구 앤딩을 이렇게...   \n",
      "3  I miss them so much!!!! \\nAnother drama projec...   \n",
      "4  Their chemistry is no joke. They slayed the ro...   \n",
      "\n",
      "                                                  22  \\\n",
      "0  [검색어를 입력하세요 www]\\n일 잘하고 사랑 잘하는 검블유 다시보기\\n http...   \n",
      "1  이 쯤되면 이재욱 필모그래피에 장모님이 왜그럴까도 넣어줘라 ㅋㅋㅋㅋㅋㅋㅋㅋㅋㅋㅋㅋㅋ...   \n",
      "2  이쯤되면 검블유가 재밌는지 장모님이 왜그럴까가 재밌는지 헷갈림 ㅋㅋㅋㅋㅋㅋㅋㅋㅋㅋㅋ...   \n",
      "3  맨 첨부터 미역이 목에 착! 감기는게 너무웃겨ㅋㅋㅋㅋㅋㅋㅋㅋ 미역목도리냐고ㅋㅋㅋㅋㅋ...   \n",
      "4  \"사실....나는 서른 세살이 아니라 예순 세살이야.\" 할때 너무 웃겨 ㅋㅋㅋㅋ 추...   \n",
      "\n",
      "                                                  23  \\\n",
      "0  [검색어를 입력하세요 www]\\n일 잘하고 사랑 잘하는 검블유 다시보기\\n http...   \n",
      "1  권해효 배우님도 일본군위안부 관련 일본사과촉구 1인시위도 하시고 평소에 굉장히 좋아...   \n",
      "2  이제까지 드라마에 중역으로 나오는 외국인 엑스트라들 중에 연기 제일 잘했음..이제까...   \n",
      "3                 엔딩까지 완벽한 드라마. 주연 셋 그대로 시즌 2 존버합니다.   \n",
      "4  대사 하나 없이도 카리스마가 저세상급인 송가경, 부드러운 카리스마의 표본인 귀요미 ...   \n",
      "\n",
      "                                                  24  \\\n",
      "0  [검색어를 입력하세요 www]\\n일 잘하고 사랑 잘하는 검블유 다시보기\\n http...   \n",
      "1                          모건이가 엄마를 닮아서 말을 아름답게 하는구나   \n",
      "2                 장기용배우 연기 잘한다~~\\n말하는 목소리 눈빛 넘 좋다~~♡   \n",
      "3  So sad and heart wrenching.\\nJang Ki Yong is a...   \n",
      "4                          진짜 저 선물들은 죽고나서도 못 버리겠다...   \n",
      "\n",
      "                                                  25  \\\n",
      "0  [검색어를 입력하세요 www]\\n일 잘하고 사랑 잘하는 검블유 다시보기\\n http...   \n",
      "1  00:50 초에서 깨발랄하게 \"가자!지환아!\" 하는것도 너무귀엽고 \"가자 현아\" 하...   \n",
      "2                       백경.....단오에게도 이렇게 스윗하게 굴어줘...   \n",
      "3  오늘 왜이렇게 예쁘지?\\n그건 니가 군인이어서 그래 \\nㅋㅋㅋㅋㅋㅋㅋㅋㅋㅋㅋ 아 진...   \n",
      "4  이재욱 진짜 연기잘하는구나.......어하루에서는 눈으로 쌍욕까지 하는것처럼 보여서...   \n",
      "\n",
      "                                                  26  \\\n",
      "0  [검색어를 입력하세요 www]\\n일 잘하고 사랑 잘하는 검블유 다시보기\\n http...   \n",
      "1                검블유는 로맨스 나오는거보다 일하는 장면이 더 재미있었음ㅋㅋㄱㅋ   \n",
      "2  마지막 장면 진짜 존나게 좋아 맨날 여남 러브스토리나 시덥잖은 눈물의 재회 부질없는...   \n",
      "3  한드를 너무 많이봐서 마지막에 차타고 등장하는거 송가경 전남편일거라고 생각했는데 타...   \n",
      "4                    제발 시즌2 만들어주세요 이 세명조합 연기 진짜 미쳤다고   \n",
      "\n",
      "                                                  27  \n",
      "0  [검색어를 입력하세요 www]\\n일 잘하고 사랑 잘하는 검블유 다시보기\\n http...  \n",
      "1  임수정 연기 정말 잘한다.. 긴 대사도 없고 큰 표정변화도 없는데 모든감정이 다 전...  \n",
      "2  갑작스런 엄마의 죽음,분노가 섞인 회한. 저런 죽음을 맞닥뜨려본 사람은 모건의 절제...  \n",
      "3                                 표준수가 처음으로 고마워짐 ㅋㅋㅋ  \n",
      "4                           아... 모건 오열할 때 진짜 짠하다 ㅠㅠㅠ  \n",
      "\n",
      "[5 rows x 28 columns]\n"
     ]
    }
   ],
   "source": [
    "all_comment_list = all_comment_list = list(all_comments.values())\n",
    "empty_dict = {}\n",
    "for i in range(len(all_comment_list)):\n",
    "    comment_list = all_comment_list[i]\n",
    "    comment_list = padding_function(comment_list,max_len)\n",
    "    empty_dict[i] = comment_list\n",
    "all_comment_dict = empty_dict\n",
    "df_all = pd.DataFrame(all_comment_dict)\n",
    "print(df_all.head())"
   ]
  },
  {
   "cell_type": "code",
   "execution_count": 34,
   "id": "e2e78152",
   "metadata": {},
   "outputs": [],
   "source": [
    "df.to_csv('WWW_all_comments.csv')"
   ]
  },
  {
   "cell_type": "code",
   "execution_count": 35,
   "id": "70adf4c0",
   "metadata": {},
   "outputs": [],
   "source": [
    "df_all.to_csv('WWW_comments_by_video.csv')"
   ]
  }
 ],
 "metadata": {
  "kernelspec": {
   "display_name": "ml4at",
   "language": "python",
   "name": "ml4at"
  },
  "language_info": {
   "codemirror_mode": {
    "name": "ipython",
    "version": 3
   },
   "file_extension": ".py",
   "mimetype": "text/x-python",
   "name": "python",
   "nbconvert_exporter": "python",
   "pygments_lexer": "ipython3",
   "version": "3.8.13"
  }
 },
 "nbformat": 4,
 "nbformat_minor": 5
}
